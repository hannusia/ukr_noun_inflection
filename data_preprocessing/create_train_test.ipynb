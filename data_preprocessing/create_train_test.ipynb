{
 "cells": [
  {
   "cell_type": "code",
   "execution_count": 1,
   "metadata": {},
   "outputs": [],
   "source": [
    "import pandas as pd\n",
    "import numpy as np\n",
    "from random import sample\n",
    "from tqdm import tqdm"
   ]
  },
  {
   "cell_type": "code",
   "execution_count": 2,
   "metadata": {},
   "outputs": [],
   "source": [
    "with open(\"../../words_preprocess/filtered_nouns.txt\") as file:\n",
    "    lines = file.readlines()\n",
    "\n",
    "lines = list(map(lambda x: x.split(), lines))"
   ]
  },
  {
   "cell_type": "code",
   "execution_count": 3,
   "metadata": {},
   "outputs": [
    {
     "data": {
      "text/html": [
       "<div>\n",
       "<style scoped>\n",
       "    .dataframe tbody tr th:only-of-type {\n",
       "        vertical-align: middle;\n",
       "    }\n",
       "\n",
       "    .dataframe tbody tr th {\n",
       "        vertical-align: top;\n",
       "    }\n",
       "\n",
       "    .dataframe thead th {\n",
       "        text-align: right;\n",
       "    }\n",
       "</style>\n",
       "<table border=\"1\" class=\"dataframe\">\n",
       "  <thead>\n",
       "    <tr style=\"text-align: right;\">\n",
       "      <th></th>\n",
       "      <th>inflected form</th>\n",
       "      <th>base form</th>\n",
       "      <th>tags</th>\n",
       "    </tr>\n",
       "  </thead>\n",
       "  <tbody>\n",
       "    <tr>\n",
       "      <th>0</th>\n",
       "      <td>абажур</td>\n",
       "      <td>абажур</td>\n",
       "      <td>noun:inanim:m:v_naz</td>\n",
       "    </tr>\n",
       "    <tr>\n",
       "      <th>1</th>\n",
       "      <td>абажура</td>\n",
       "      <td>абажур</td>\n",
       "      <td>noun:inanim:m:v_rod</td>\n",
       "    </tr>\n",
       "    <tr>\n",
       "      <th>2</th>\n",
       "      <td>абажурові</td>\n",
       "      <td>абажур</td>\n",
       "      <td>noun:inanim:m:v_dav</td>\n",
       "    </tr>\n",
       "    <tr>\n",
       "      <th>3</th>\n",
       "      <td>абажуру</td>\n",
       "      <td>абажур</td>\n",
       "      <td>noun:inanim:m:v_dav</td>\n",
       "    </tr>\n",
       "    <tr>\n",
       "      <th>4</th>\n",
       "      <td>абажур</td>\n",
       "      <td>абажур</td>\n",
       "      <td>noun:inanim:m:v_zna</td>\n",
       "    </tr>\n",
       "    <tr>\n",
       "      <th>5</th>\n",
       "      <td>абажуром</td>\n",
       "      <td>абажур</td>\n",
       "      <td>noun:inanim:m:v_oru</td>\n",
       "    </tr>\n",
       "    <tr>\n",
       "      <th>6</th>\n",
       "      <td>абажурі</td>\n",
       "      <td>абажур</td>\n",
       "      <td>noun:inanim:m:v_mis</td>\n",
       "    </tr>\n",
       "    <tr>\n",
       "      <th>7</th>\n",
       "      <td>абажурові</td>\n",
       "      <td>абажур</td>\n",
       "      <td>noun:inanim:m:v_mis</td>\n",
       "    </tr>\n",
       "    <tr>\n",
       "      <th>8</th>\n",
       "      <td>абажуру</td>\n",
       "      <td>абажур</td>\n",
       "      <td>noun:inanim:m:v_mis</td>\n",
       "    </tr>\n",
       "    <tr>\n",
       "      <th>9</th>\n",
       "      <td>абажуре</td>\n",
       "      <td>абажур</td>\n",
       "      <td>noun:inanim:m:v_kly</td>\n",
       "    </tr>\n",
       "  </tbody>\n",
       "</table>\n",
       "</div>"
      ],
      "text/plain": [
       "  inflected form base form                 tags\n",
       "0         абажур    абажур  noun:inanim:m:v_naz\n",
       "1        абажура    абажур  noun:inanim:m:v_rod\n",
       "2      абажурові    абажур  noun:inanim:m:v_dav\n",
       "3        абажуру    абажур  noun:inanim:m:v_dav\n",
       "4         абажур    абажур  noun:inanim:m:v_zna\n",
       "5       абажуром    абажур  noun:inanim:m:v_oru\n",
       "6        абажурі    абажур  noun:inanim:m:v_mis\n",
       "7      абажурові    абажур  noun:inanim:m:v_mis\n",
       "8        абажуру    абажур  noun:inanim:m:v_mis\n",
       "9        абажуре    абажур  noun:inanim:m:v_kly"
      ]
     },
     "execution_count": 3,
     "metadata": {},
     "output_type": "execute_result"
    }
   ],
   "source": [
    "df = pd.DataFrame(lines, columns=[\"inflected form\", \"base form\", \"tags\"])\n",
    "df.head(10)"
   ]
  },
  {
   "cell_type": "code",
   "execution_count": 4,
   "metadata": {},
   "outputs": [
    {
     "data": {
      "text/plain": [
       "(1519157, 3)"
      ]
     },
     "execution_count": 4,
     "metadata": {},
     "output_type": "execute_result"
    }
   ],
   "source": [
    "df.shape"
   ]
  },
  {
   "cell_type": "code",
   "execution_count": 5,
   "metadata": {},
   "outputs": [],
   "source": [
    "def process_group(row):\n",
    "    return row[\"tags\"].split(\":\")[1]\n",
    "\n",
    "def process_number(row):\n",
    "    tags = row[\"tags\"].split(\":\")[1:]\n",
    "\n",
    "    #check number\n",
    "    if \"p\" in tags:\n",
    "        return \"2\"\n",
    "    return \"1\"\n",
    "\n",
    "def process_gender(row):\n",
    "    tags = row[\"tags\"].split(\":\")[1:]\n",
    "\n",
    "    #check gender\n",
    "    if \"m\" in tags:\n",
    "        return \"m\"\n",
    "    elif \"f\" in tags:\n",
    "        return \"f\"\n",
    "    elif \"n\" in tags:\n",
    "        return \"n\"\n",
    "\n",
    "def process_case(row):\n",
    "    tags = row[\"tags\"].split(\":\")[1:]\n",
    "\n",
    "    #check case\n",
    "    if \"v_naz\" in tags:\n",
    "        return \"N\"\n",
    "    elif \"v_rod\" in tags:\n",
    "        return \"G\"\n",
    "    elif \"v_dav\" in tags:\n",
    "        return \"D\"\n",
    "    elif \"v_zna\" in tags:\n",
    "        return \"A\"\n",
    "    elif \"v_oru\" in tags:\n",
    "        return \"I\"\n",
    "    elif \"v_mis\" in tags:\n",
    "        return \"L\"\n",
    "    elif \"v_kly\" in tags:\n",
    "        return \"V\""
   ]
  },
  {
   "cell_type": "code",
   "execution_count": 6,
   "metadata": {},
   "outputs": [],
   "source": [
    "df[\"group\"] = df.apply(process_group, axis=1)\n",
    "df[\"number\"] = df.apply(process_number, axis=1)\n",
    "df[\"gender\"] = df.apply(process_gender, axis=1)\n",
    "df[\"case\"] = df.apply(process_case, axis=1)"
   ]
  },
  {
   "cell_type": "code",
   "execution_count": 7,
   "metadata": {},
   "outputs": [
    {
     "data": {
      "text/plain": [
       "number\n",
       "1    970421\n",
       "2    548736\n",
       "Name: count, dtype: int64"
      ]
     },
     "execution_count": 7,
     "metadata": {},
     "output_type": "execute_result"
    }
   ],
   "source": [
    "df[\"number\"].value_counts()"
   ]
  },
  {
   "cell_type": "code",
   "execution_count": 8,
   "metadata": {},
   "outputs": [
    {
     "data": {
      "text/plain": [
       "gender\n",
       "m    450789\n",
       "f    336907\n",
       "n    182725\n",
       "Name: count, dtype: int64"
      ]
     },
     "execution_count": 8,
     "metadata": {},
     "output_type": "execute_result"
    }
   ],
   "source": [
    "df[\"gender\"].value_counts()"
   ]
  },
  {
   "cell_type": "code",
   "execution_count": 9,
   "metadata": {},
   "outputs": [
    {
     "data": {
      "text/plain": [
       "case\n",
       "L    291828\n",
       "D    235895\n",
       "A    214290\n",
       "G    204539\n",
       "V    190872\n",
       "N    190868\n",
       "I    190865\n",
       "Name: count, dtype: int64"
      ]
     },
     "execution_count": 9,
     "metadata": {},
     "output_type": "execute_result"
    }
   ],
   "source": [
    "df[\"case\"].value_counts()"
   ]
  },
  {
   "cell_type": "code",
   "execution_count": 10,
   "metadata": {},
   "outputs": [],
   "source": [
    "def fix_gender(row):\n",
    "    if row[\"gender\"] in (\"m\", \"f\", \"n\"):\n",
    "        return row[\"gender\"]\n",
    "    else:\n",
    "        base = row[\"base form\"]\n",
    "        return df[df[\"base form\"] == base ].iloc[0][\"gender\"]"
   ]
  },
  {
   "cell_type": "code",
   "execution_count": 13,
   "metadata": {},
   "outputs": [],
   "source": [
    "sample_nouns = sample(list(df[\"base form\"].unique()), 115608)"
   ]
  },
  {
   "cell_type": "code",
   "execution_count": 14,
   "metadata": {},
   "outputs": [
    {
     "data": {
      "text/html": [
       "<div>\n",
       "<style scoped>\n",
       "    .dataframe tbody tr th:only-of-type {\n",
       "        vertical-align: middle;\n",
       "    }\n",
       "\n",
       "    .dataframe tbody tr th {\n",
       "        vertical-align: top;\n",
       "    }\n",
       "\n",
       "    .dataframe thead th {\n",
       "        text-align: right;\n",
       "    }\n",
       "</style>\n",
       "<table border=\"1\" class=\"dataframe\">\n",
       "  <thead>\n",
       "    <tr style=\"text-align: right;\">\n",
       "      <th></th>\n",
       "      <th>inflected form</th>\n",
       "      <th>base form</th>\n",
       "      <th>tags</th>\n",
       "      <th>group</th>\n",
       "      <th>number</th>\n",
       "      <th>gender</th>\n",
       "      <th>case</th>\n",
       "    </tr>\n",
       "  </thead>\n",
       "  <tbody>\n",
       "    <tr>\n",
       "      <th>0</th>\n",
       "      <td>абажур</td>\n",
       "      <td>абажур</td>\n",
       "      <td>noun:inanim:m:v_naz</td>\n",
       "      <td>inanim</td>\n",
       "      <td>1</td>\n",
       "      <td>m</td>\n",
       "      <td>N</td>\n",
       "    </tr>\n",
       "    <tr>\n",
       "      <th>1</th>\n",
       "      <td>абажура</td>\n",
       "      <td>абажур</td>\n",
       "      <td>noun:inanim:m:v_rod</td>\n",
       "      <td>inanim</td>\n",
       "      <td>1</td>\n",
       "      <td>m</td>\n",
       "      <td>G</td>\n",
       "    </tr>\n",
       "    <tr>\n",
       "      <th>2</th>\n",
       "      <td>абажурові</td>\n",
       "      <td>абажур</td>\n",
       "      <td>noun:inanim:m:v_dav</td>\n",
       "      <td>inanim</td>\n",
       "      <td>1</td>\n",
       "      <td>m</td>\n",
       "      <td>D</td>\n",
       "    </tr>\n",
       "    <tr>\n",
       "      <th>3</th>\n",
       "      <td>абажуру</td>\n",
       "      <td>абажур</td>\n",
       "      <td>noun:inanim:m:v_dav</td>\n",
       "      <td>inanim</td>\n",
       "      <td>1</td>\n",
       "      <td>m</td>\n",
       "      <td>D</td>\n",
       "    </tr>\n",
       "    <tr>\n",
       "      <th>4</th>\n",
       "      <td>абажур</td>\n",
       "      <td>абажур</td>\n",
       "      <td>noun:inanim:m:v_zna</td>\n",
       "      <td>inanim</td>\n",
       "      <td>1</td>\n",
       "      <td>m</td>\n",
       "      <td>A</td>\n",
       "    </tr>\n",
       "  </tbody>\n",
       "</table>\n",
       "</div>"
      ],
      "text/plain": [
       "  inflected form base form                 tags   group number gender case\n",
       "0         абажур    абажур  noun:inanim:m:v_naz  inanim      1      m    N\n",
       "1        абажура    абажур  noun:inanim:m:v_rod  inanim      1      m    G\n",
       "2      абажурові    абажур  noun:inanim:m:v_dav  inanim      1      m    D\n",
       "3        абажуру    абажур  noun:inanim:m:v_dav  inanim      1      m    D\n",
       "4         абажур    абажур  noun:inanim:m:v_zna  inanim      1      m    A"
      ]
     },
     "execution_count": 14,
     "metadata": {},
     "output_type": "execute_result"
    }
   ],
   "source": [
    "df.head()"
   ]
  },
  {
   "cell_type": "code",
   "execution_count": 15,
   "metadata": {},
   "outputs": [],
   "source": [
    "gb = df.groupby([\"base form\"])"
   ]
  },
  {
   "cell_type": "code",
   "execution_count": 16,
   "metadata": {},
   "outputs": [
    {
     "data": {
      "text/plain": [
       "'остріха'"
      ]
     },
     "execution_count": 16,
     "metadata": {},
     "output_type": "execute_result"
    }
   ],
   "source": [
    "sample_nouns[10]"
   ]
  },
  {
   "cell_type": "code",
   "execution_count": 17,
   "metadata": {},
   "outputs": [
    {
     "data": {
      "text/plain": [
       "pandas.core.frame.DataFrame"
      ]
     },
     "execution_count": 17,
     "metadata": {},
     "output_type": "execute_result"
    }
   ],
   "source": [
    "type(gb.get_group(sample_nouns[10]))"
   ]
  },
  {
   "cell_type": "code",
   "execution_count": 18,
   "metadata": {},
   "outputs": [
    {
     "name": "stderr",
     "output_type": "stream",
     "text": [
      "100%|██████████| 100000/100000 [2:09:20<00:00, 12.89it/s] \n",
      "100%|██████████| 15608/15608 [03:12<00:00, 81.13it/s] \n"
     ]
    }
   ],
   "source": [
    "df_train = pd.DataFrame(columns=['inflected form', 'base form', 'tags', 'number', 'gender'])\n",
    "df_test = pd.DataFrame(columns=['inflected form', 'base form', 'tags', 'number', 'gender'])\n",
    "\n",
    "for i in tqdm(range(len(sample_nouns[:100000]))):\n",
    "    noun = sample_nouns[i]\n",
    "    # frames = [df_train, df[df[\"base form\"] == noun]]\n",
    "    df_train = pd.concat([df_train, gb.get_group(noun)])\n",
    "\n",
    "for i in tqdm(range(len(sample_nouns[100000:]))):\n",
    "    noun = sample_nouns[15000 + i]\n",
    "    df_test = pd.concat([df_test, gb.get_group(noun)])"
   ]
  },
  {
   "cell_type": "code",
   "execution_count": 19,
   "metadata": {},
   "outputs": [],
   "source": [
    "df_train.reset_index(inplace=True)\n",
    "df_test.reset_index(inplace=True)\n",
    "\n",
    "df_train.drop(columns=[\"index\", \"tags\"], inplace=True)\n",
    "df_test.drop(columns=[\"index\", \"tags\"], inplace=True)\n"
   ]
  },
  {
   "cell_type": "code",
   "execution_count": 20,
   "metadata": {},
   "outputs": [],
   "source": [
    "df_train.fillna(method='ffill', inplace=True)\n",
    "df_test.fillna(method='ffill', inplace=True)"
   ]
  },
  {
   "cell_type": "code",
   "execution_count": 21,
   "metadata": {},
   "outputs": [
    {
     "data": {
      "text/html": [
       "<div>\n",
       "<style scoped>\n",
       "    .dataframe tbody tr th:only-of-type {\n",
       "        vertical-align: middle;\n",
       "    }\n",
       "\n",
       "    .dataframe tbody tr th {\n",
       "        vertical-align: top;\n",
       "    }\n",
       "\n",
       "    .dataframe thead th {\n",
       "        text-align: right;\n",
       "    }\n",
       "</style>\n",
       "<table border=\"1\" class=\"dataframe\">\n",
       "  <thead>\n",
       "    <tr style=\"text-align: right;\">\n",
       "      <th></th>\n",
       "      <th>inflected form</th>\n",
       "      <th>base form</th>\n",
       "      <th>number</th>\n",
       "      <th>gender</th>\n",
       "      <th>group</th>\n",
       "      <th>case</th>\n",
       "      <th>concat form</th>\n",
       "    </tr>\n",
       "  </thead>\n",
       "  <tbody>\n",
       "    <tr>\n",
       "      <th>0</th>\n",
       "      <td>емаль</td>\n",
       "      <td>емаль</td>\n",
       "      <td>1</td>\n",
       "      <td>f</td>\n",
       "      <td>inanim</td>\n",
       "      <td>N</td>\n",
       "      <td>емаль1N</td>\n",
       "    </tr>\n",
       "    <tr>\n",
       "      <th>1</th>\n",
       "      <td>емалі</td>\n",
       "      <td>емаль</td>\n",
       "      <td>1</td>\n",
       "      <td>f</td>\n",
       "      <td>inanim</td>\n",
       "      <td>G</td>\n",
       "      <td>емаль1G</td>\n",
       "    </tr>\n",
       "    <tr>\n",
       "      <th>2</th>\n",
       "      <td>емалі</td>\n",
       "      <td>емаль</td>\n",
       "      <td>1</td>\n",
       "      <td>f</td>\n",
       "      <td>inanim</td>\n",
       "      <td>D</td>\n",
       "      <td>емаль1D</td>\n",
       "    </tr>\n",
       "    <tr>\n",
       "      <th>3</th>\n",
       "      <td>емаль</td>\n",
       "      <td>емаль</td>\n",
       "      <td>1</td>\n",
       "      <td>f</td>\n",
       "      <td>inanim</td>\n",
       "      <td>A</td>\n",
       "      <td>емаль1A</td>\n",
       "    </tr>\n",
       "    <tr>\n",
       "      <th>4</th>\n",
       "      <td>емаллю</td>\n",
       "      <td>емаль</td>\n",
       "      <td>1</td>\n",
       "      <td>f</td>\n",
       "      <td>inanim</td>\n",
       "      <td>I</td>\n",
       "      <td>емаль1I</td>\n",
       "    </tr>\n",
       "  </tbody>\n",
       "</table>\n",
       "</div>"
      ],
      "text/plain": [
       "  inflected form base form number gender   group case concat form\n",
       "0          емаль     емаль      1      f  inanim    N     емаль1N\n",
       "1          емалі     емаль      1      f  inanim    G     емаль1G\n",
       "2          емалі     емаль      1      f  inanim    D     емаль1D\n",
       "3          емаль     емаль      1      f  inanim    A     емаль1A\n",
       "4         емаллю     емаль      1      f  inanim    I     емаль1I"
      ]
     },
     "execution_count": 21,
     "metadata": {},
     "output_type": "execute_result"
    }
   ],
   "source": [
    "df_train[\"concat form\"] = df_train[\"base form\"] + df_train[\"number\"] + df_train[\"case\"]\n",
    "df_test[\"concat form\"] = df_test[\"base form\"] + df_test[\"number\"] + df_test[\"case\"]\n",
    "df_train.head()"
   ]
  },
  {
   "cell_type": "code",
   "execution_count": 22,
   "metadata": {},
   "outputs": [],
   "source": [
    "df_train.to_csv(\"train.csv\", index=False)\n",
    "df_test.to_csv(\"test.csv\", index=False)"
   ]
  }
 ],
 "metadata": {
  "kernelspec": {
   "display_name": "env",
   "language": "python",
   "name": "python3"
  },
  "language_info": {
   "codemirror_mode": {
    "name": "ipython",
    "version": 3
   },
   "file_extension": ".py",
   "mimetype": "text/x-python",
   "name": "python",
   "nbconvert_exporter": "python",
   "pygments_lexer": "ipython3",
   "version": "3.11.3 (main, Apr  5 2023, 15:52:25) [GCC 12.2.1 20230201]"
  },
  "orig_nbformat": 4,
  "vscode": {
   "interpreter": {
    "hash": "166e9bb9428cb8553d92c53cc1350464430c4f0313216e49bffe4fb44b7aba21"
   }
  }
 },
 "nbformat": 4,
 "nbformat_minor": 2
}
